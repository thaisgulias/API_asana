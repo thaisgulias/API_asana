{
  "nbformat": 4,
  "nbformat_minor": 0,
  "metadata": {
    "colab": {
      "provenance": [],
      "authorship_tag": "ABX9TyMsvqmVcIPV6eDQZFPghJFN"
    },
    "kernelspec": {
      "name": "python3",
      "display_name": "Python 3"
    },
    "language_info": {
      "name": "python"
    }
  },
  "cells": [
    {
      "cell_type": "markdown",
      "source": [
        "## Clique aqui para executar tudo! Não esqueça de trocar seu 'access_token' e mês que deseja consultar. Aqui temos o Cronograma de envio '1200479187862815'"
      ],
      "metadata": {
        "id": "GaW9Tfbe6zHn"
      }
    },
    {
      "cell_type": "code",
      "execution_count": null,
      "metadata": {
        "colab": {
          "base_uri": "https://localhost:8080/"
        },
        "id": "kwRKBFPrDEHc",
        "outputId": "c50a8055-3d9a-4800-865c-90800cbe064a"
      },
      "outputs": [
        {
          "output_type": "stream",
          "name": "stdout",
          "text": [
            "Collecting asana\n",
            "  Downloading asana-5.0.6-py3-none-any.whl (185 kB)\n",
            "\u001b[2K     \u001b[90m━━━━━━━━━━━━━━━━━━━━━━━━━━━━━━━━━━━━━━━━\u001b[0m \u001b[32m185.4/185.4 kB\u001b[0m \u001b[31m2.3 MB/s\u001b[0m eta \u001b[36m0:00:00\u001b[0m\n",
            "\u001b[?25hRequirement already satisfied: certifi>=2017.4.17 in /usr/local/lib/python3.10/dist-packages (from asana) (2024.2.2)\n",
            "Requirement already satisfied: python-dateutil>=2.1 in /usr/local/lib/python3.10/dist-packages (from asana) (2.8.2)\n",
            "Requirement already satisfied: six>=1.10 in /usr/local/lib/python3.10/dist-packages (from asana) (1.16.0)\n",
            "Requirement already satisfied: urllib3>=1.23 in /usr/local/lib/python3.10/dist-packages (from asana) (2.0.7)\n",
            "Installing collected packages: asana\n",
            "Successfully installed asana-5.0.6\n"
          ]
        }
      ],
      "source": [
        "pip install asana"
      ]
    },
    {
      "cell_type": "code",
      "source": [
        "import asana\n",
        "from asana.rest import ApiException\n",
        "from pprint import pprint"
      ],
      "metadata": {
        "id": "fMXob0vEdLD8"
      },
      "execution_count": null,
      "outputs": []
    },
    {
      "cell_type": "code",
      "execution_count": null,
      "metadata": {
        "id": "Fu5y2OFhDKjT"
      },
      "outputs": [],
      "source": [
        "import requests\n",
        "import pandas as pd\n",
        "from pandas import json_normalize\n",
        "import json\n",
        "from datetime import datetime\n"
      ]
    },
    {
      "cell_type": "code",
      "execution_count": null,
      "metadata": {
        "id": "tYQ7Q_htbrol"
      },
      "outputs": [],
      "source": [
        "pd.set_option('display.max_colwidth', None)"
      ]
    },
    {
      "cell_type": "code",
      "execution_count": null,
      "metadata": {
        "id": "gaa6Wxl-RPMq"
      },
      "outputs": [],
      "source": [
        "# Configure OAuth2 access token for authorization\n",
        "configuration = asana.Configuration()\n",
        "configuration.access_token = 'xxxxx' #troque pelo seu acesso\n",
        "api_client = asana.ApiClient(configuration)\n",
        "\n",
        "# Criando uma instância da API de Tarefas\n",
        "tasks_api_instance = asana.TasksApi(api_client)\n",
        "\n",
        "# ID do projeto (substitua pelo ID do projeto desejado)\n",
        "project_id = 'xxxxxxx' # id cronograma de envio"
      ]
    },
    {
      "cell_type": "code",
      "source": [
        "# Definindo os campos desejados para as tarefas, incluindo o campo personalizado \"Tipo de Comunicação\"\n",
        "opts = {\n",
        "    'opt_fields': \",\".join([\n",
        "        \"gid\",\n",
        "        \"created_at\",\n",
        "        \"completed_at\",\n",
        "        \"modified_at\",\n",
        "        \"name\",\n",
        "        \"assignee.name\",\n",
        "        \"due_on\",\n",
        "        \"tags.name\",\n",
        "        \"notes\",\n",
        "        \"projects.name\",\n",
        "        \"custom_fields\",\n",
        "    ])\n",
        "}\n",
        "def get_task_data(task, parent_task_name=None):\n",
        "    assignee_name = task.get('assignee', {}).get('name') if task.get('assignee') else None\n",
        "    task_data = {\n",
        "        'Nome da Tarefa': parent_task_name if parent_task_name else task.get('name'),\n",
        "        'Responsável': assignee_name,\n",
        "        'Concluída em': task.get('due_on'),\n",
        "        'Notas': task.get('notes'),\n",
        "        'Tags': [tag.get('name') for tag in task.get('tags')] if task.get('tags') else None\n",
        "    }\n",
        "\n",
        "    # Buscando o valor do campo personalizado \"Tipo de Comunicação\"\n",
        "    tipo_comunicacao = None\n",
        "    custom_fields = task.get('custom_fields', [])\n",
        "    for field in custom_fields:\n",
        "        if field.get('name') == 'Tipo de Comunicação':\n",
        "            enum_value = field.get('enum_value')\n",
        "            tipo_comunicacao = enum_value.get('name') if enum_value else None\n",
        "            break  # Sair do loop assim que o campo for encontrado\n",
        "\n",
        "    task_data['Tipo de Comunicação'] = tipo_comunicacao\n",
        "\n",
        "    return task_data\n",
        "\n",
        "# Obtendo as tarefas do projeto\n",
        "try:\n",
        "    project_tasks_response = tasks_api_instance.get_tasks_for_project(project_id, opts=opts)\n",
        "    task_data = [get_task_data(task) for task in project_tasks_response]\n",
        "except ApiException as e:\n",
        "    print(\"Erro ao obter tarefas do projeto:\", str(e))\n",
        "    exit()\n",
        "\n",
        "# Criando um DataFrame a partir dos dados coletados\n",
        "df = pd.DataFrame(task_data)\n",
        "\n",
        "df"
      ],
      "metadata": {
        "id": "w3nbBxR8kUT8"
      },
      "execution_count": null,
      "outputs": []
    },
    {
      "cell_type": "markdown",
      "source": [
        "Dados apresentados no relátorio"
      ],
      "metadata": {
        "id": "bGqsYbcg7N75"
      }
    },
    {
      "cell_type": "code",
      "source": [
        "# Remover linhas com valores NaN na coluna 'Concluída em'\n",
        "df = df.dropna(subset=['Concluída em'])\n",
        "\n",
        "# Filtrar as tarefas pelo mês e ano de conclusão\n",
        "filtro_mes = df['Concluída em'].str.contains(\"2024-03-\")\n",
        "\n",
        "tarefas = df[filtro_mes]\n",
        "\n",
        "colunas_desejadas = [\"Nome da Tarefa\", \"Responsável\", \"Notas\", \"Concluída em\", \"Tags\", \"Tipo de Comunicação\"]\n",
        "tarefas = tarefas[colunas_desejadas]\n",
        "\n",
        "tarefas.reset_index(drop=True, inplace=True)\n",
        "\n",
        "\n",
        "# Salvar o DataFrame em um arquivo CSV\n",
        "nome_arquivo_csv = 'comunicacao.csv'\n",
        "tarefas.to_csv(nome_arquivo_csv, index=False)\n",
        "\n",
        "tarefas"
      ],
      "metadata": {
        "id": "1rP-RTowN7Bz"
      },
      "execution_count": null,
      "outputs": []
    },
    {
      "cell_type": "code",
      "source": [
        "# Contar a quantidade de tarefas com cada tag\n",
        "quantidade_email = tarefas['Tipo de Comunicação'].apply(lambda x: \"E-mail\" in x if x else False).sum()\n",
        "quantidade_push = tarefas['Tipo de Comunicação'].apply(lambda x: \"Push\" in x if x else False).sum()\n",
        "quantidade_comunique = tarefas['Tipo de Comunicação'].apply(lambda x: \"Comunique\" in x if x else False).sum()\n",
        "# Contar o número de tarefas em tarefas_relatorio_setembro\n",
        "numero_de_tarefas= tarefas.shape[0]\n",
        "\n",
        "# Mostrar o resultado\n",
        "print(f\"Número de tarefas no mês: {numero_de_tarefas}, sendo:\")\n",
        "print(f\"{quantidade_email} E-mails\")\n",
        "print(f\"{quantidade_push} Pushes\")\n",
        "print(f\"{quantidade_comunique} Comuniques\")\n",
        "\n"
      ],
      "metadata": {
        "colab": {
          "base_uri": "https://localhost:8080/"
        },
        "id": "ErtCQ4E6rzR3",
        "outputId": "93dfa380-c4d9-486f-8c46-e8a482349d38"
      },
      "execution_count": null,
      "outputs": [
        {
          "output_type": "stream",
          "name": "stdout",
          "text": [
            "Número de tarefas no mês: 9, sendo:\n",
            "5 E-mails\n",
            "4 Pushes\n",
            "0 Comuniques\n"
          ]
        }
      ]
    }
  ]
}