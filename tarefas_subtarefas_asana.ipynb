{
  "nbformat": 4,
  "nbformat_minor": 0,
  "metadata": {
    "colab": {
      "provenance": [],
      "authorship_tag": "ABX9TyPQiXRXrdv2SeixdOvACXQ6"
    },
    "kernelspec": {
      "name": "python3",
      "display_name": "Python 3"
    },
    "language_info": {
      "name": "python"
    }
  },
  "cells": [
    {
      "cell_type": "code",
      "source": [
        "pip install asana"
      ],
      "metadata": {
        "id": "GLTrSdsgM2FR"
      },
      "execution_count": null,
      "outputs": []
    },
    {
      "cell_type": "code",
      "source": [
        "import asana\n",
        "from asana.rest import ApiException\n",
        "from pprint import pprint\n",
        "import requests\n",
        "import pandas as pd\n",
        "from pandas import json_normalize\n",
        "import json"
      ],
      "metadata": {
        "id": "AmlIdGpbM63y"
      },
      "execution_count": null,
      "outputs": []
    },
    {
      "cell_type": "code",
      "source": [
        "pd.set_option('display.max_colwidth', None)"
      ],
      "metadata": {
        "id": "G2AOnLtHM9EA"
      },
      "execution_count": null,
      "outputs": []
    },
    {
      "cell_type": "code",
      "execution_count": null,
      "metadata": {
        "id": "Covf6OOgMOkT"
      },
      "outputs": [],
      "source": [
        "# Configure OAuth2 access token for authorization\n",
        "configuration = asana.Configuration()\n",
        "configuration.access_token = 'xxxxxx' #troque pelo seu acesso\n",
        "api_client = asana.ApiClient(configuration)\n",
        "\n",
        "api_instance = asana.TasksApi(api_client)\n",
        "\n",
        "# ID do projeto (substitua pelo ID do projeto desejado)\n",
        "project_gid = 'xxxxxx' #id projeto Mesquita"
      ]
    },
    {
      "cell_type": "code",
      "execution_count": null,
      "metadata": {
        "id": "9-1JYy7CMIyG"
      },
      "outputs": [],
      "source": [
        "opts = {\n",
        "    'opt_fields': \",\".join([\n",
        "    \"gid\",\n",
        "    \"created_at\",\n",
        "    \"completed_at\",\n",
        "    \"modified_at\",\n",
        "    \"name\",\n",
        "    \"memberships.section.name\",\n",
        "    \"assignee.name\",\n",
        "    \"assignee.email\",\n",
        "    \"start_on\",\n",
        "    \"due_on\",\n",
        "    \"tags.name\",\n",
        "    \"notes\",\n",
        "    \"projects.name\",\n",
        "    ])\n",
        "}\n",
        "\n",
        "def get_all_tasks_and_subtasks(task, parent_task_name=None):\n",
        "    task_data.append({\n",
        "        'section_name': task.get('memberships', [{}])[0].get('section', {}).get('name', None) if task.get('memberships', []) else None,\n",
        "        'task_name': parent_task_name if parent_task_name else task.get('name', None),\n",
        "        'subtask_name': task.get('name', None),\n",
        "        'assignee': task.get('assignee', {}).get('name', None) if task.get('assignee', None) else None,\n",
        "        'subtask_notes': task.get('notes', None),\n",
        "        'due_on': pd.to_datetime(task.get('due_on', None)).strftime(\"%d/%m/%Y\") if task.get('due_on', None) else None,\n",
        "        'tag_names': [tag.get('name', None) for tag in task.get('tags', [])] if task.get('tags', None) else None\n",
        "    })\n",
        "\n",
        "    subtask_response = api_instance.get_subtasks_for_task(task.get('gid'), opts=opts)\n",
        "    subtasks = list(subtask_response)  # Transformando o gerador em uma lista\n",
        "\n",
        "    for subtask in subtasks:\n",
        "        get_all_tasks_and_subtasks(subtask, parent_task_name=parent_task_name if parent_task_name else task.get('name', None))\n",
        "\n",
        "\n",
        "\n",
        "\n",
        "try:\n",
        "    project_tasks_response = api_instance.get_tasks_for_project(project_gid, opts=opts)\n",
        "    project_tasks = list(project_tasks_response)  # Transformando o gerador em uma lista\n",
        "except ApiException as e:\n",
        "    if e.status == 401:\n",
        "        print(\"Erro de autorização. Verifique seu token de acesso e permissões.\")\n",
        "    else:\n",
        "        print(f\"Exception when calling TasksApi->get_tasks_for_project: {e}\")\n",
        "    exit()\n",
        "\n",
        "# Lista para armazenar os dados de tarefas e subtarefas\n",
        "task_data = []\n",
        "\n",
        "# Iterar sobre as tarefas do projeto\n",
        "for task in project_tasks:\n",
        "    # Certifique-se de que a tarefa é um dicionário antes de processá-la\n",
        "    if isinstance(task, dict):\n",
        "        get_all_tasks_and_subtasks(task)\n",
        "    else:\n",
        "        print(f\"Objeto inesperado encontrado: {task}\")\n",
        "\n",
        "# Crie um DataFrame a partir dos dados coletados\n",
        "df = pd.DataFrame(task_data)\n",
        "\n",
        "# Dicionário de mapeamento para tradução de nomes de colunas\n",
        "nome_coluna_map = {\n",
        "    'section_name': 'Seção',\n",
        "    'task_name': 'Nome da Tarefa',\n",
        "    'subtask_name': 'Nome da Subtarefa',\n",
        "    'assignee': 'Responsável',\n",
        "    'subtask_notes': 'Notas',\n",
        "    'due_on': 'Concluída em',\n",
        "    'tag_names': 'Tags',\n",
        "}\n",
        "\n",
        "# Iterar sobre as chaves do dicionário de mapeamento\n",
        "for coluna_em_ingles, coluna_em_portugues in nome_coluna_map.items():\n",
        "    # Verifique se a coluna em inglês existe no DataFrame\n",
        "    if coluna_em_ingles in df.columns:\n",
        "        # Renomeie a coluna no DataFrame\n",
        "        df = df.rename(columns={coluna_em_ingles: coluna_em_portugues})\n",
        "\n",
        "df"
      ]
    },
    {
      "cell_type": "markdown",
      "source": [
        "Dados apresentados no relátorio"
      ],
      "metadata": {
        "id": "DPWJrTZ-58hd"
      }
    },
    {
      "cell_type": "code",
      "source": [
        "# Filtrar as tarefas pela tag\n",
        "filtro_tag_relatorio = df['Tags'].apply(lambda x: x is not None and 'xxxxxx' in x)\n",
        "\n",
        "# Filtrar as tarefas pelo mês de conclusão (por exemplo, setembro)\n",
        "filtro_mes = df['Concluída em'].str.contains(\"/03/2024\")\n",
        "\n",
        "# Combinar os dois filtros\n",
        "tarefas_relatorio = df[filtro_tag_relatorio & filtro_mes]\n",
        "\n",
        "tarefas_relatorio = tarefas_relatorio[[\"Seção\", \"Nome da Tarefa\",\t\"Nome da Subtarefa\",\t\"Responsável\",\t\"Notas\",\t\"Concluída em\",\t\"Tags\"]]\n",
        "\n",
        "# Salvar o DataFrame em um arquivo CSV\n",
        "nome_arquivo_csv = 'xxxxxx.csv'\n",
        "tarefas_relatorio.to_csv(nome_arquivo_csv, index=False)\n",
        "\n",
        "\n",
        "tarefas_relatorio\n"
      ],
      "metadata": {
        "id": "1rP-RTowN7Bz"
      },
      "execution_count": null,
      "outputs": []
    },
    {
      "cell_type": "code",
      "source": [
        "# Contar o número de tarefas em tarefas_relatorio\n",
        "numero_de_tarefas = tarefas_relatorio.shape[0]\n",
        "\n",
        "# Mostrar o resultado\n",
        "print(f\"Número de tarefas: {numero_de_tarefas}\")\n"
      ],
      "metadata": {
        "colab": {
          "base_uri": "https://localhost:8080/"
        },
        "id": "1cVtFU4o340x",
        "outputId": "087afef8-b7ec-4e4d-dd56-006c55daadb0"
      },
      "execution_count": null,
      "outputs": [
        {
          "output_type": "stream",
          "name": "stdout",
          "text": [
            "Número de tarefas: 6\n"
          ]
        }
      ]
    }
  ]
}