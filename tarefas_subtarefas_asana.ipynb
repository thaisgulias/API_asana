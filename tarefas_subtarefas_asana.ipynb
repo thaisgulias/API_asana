{
  "nbformat": 4,
  "nbformat_minor": 0,
  "metadata": {
    "colab": {
      "provenance": [],
      "authorship_tag": "ABX9TyMSPnR5+tEQ6XjPhDcGZ54f"
    },
    "kernelspec": {
      "name": "python3",
      "display_name": "Python 3"
    },
    "language_info": {
      "name": "python"
    }
  },
  "cells": [
    {
      "cell_type": "code",
      "source": [
        "!pip install asana"
      ],
      "metadata": {
        "colab": {
          "base_uri": "https://localhost:8080/"
        },
        "id": "GLTrSdsgM2FR",
        "outputId": "0ee0aae8-28ee-4c9e-c5fb-b0e776cb94ae"
      },
      "execution_count": null,
      "outputs": [
        {
          "output_type": "stream",
          "name": "stdout",
          "text": [
            "Requirement already satisfied: asana in /usr/local/lib/python3.10/dist-packages (5.0.6)\n",
            "Requirement already satisfied: certifi>=2017.4.17 in /usr/local/lib/python3.10/dist-packages (from asana) (2024.2.2)\n",
            "Requirement already satisfied: python-dateutil>=2.1 in /usr/local/lib/python3.10/dist-packages (from asana) (2.8.2)\n",
            "Requirement already satisfied: six>=1.10 in /usr/local/lib/python3.10/dist-packages (from asana) (1.16.0)\n",
            "Requirement already satisfied: urllib3>=1.23 in /usr/local/lib/python3.10/dist-packages (from asana) (2.0.7)\n"
          ]
        }
      ]
    },
    {
      "cell_type": "code",
      "source": [
        "import asana\n",
        "from asana.rest import ApiException\n",
        "from pprint import pprint\n",
        "import requests\n",
        "import pandas as pd\n",
        "from pandas import json_normalize\n",
        "import json"
      ],
      "metadata": {
        "id": "AmlIdGpbM63y"
      },
      "execution_count": null,
      "outputs": []
    },
    {
      "cell_type": "code",
      "source": [
        "pd.set_option('display.max_colwidth', None)"
      ],
      "metadata": {
        "id": "G2AOnLtHM9EA"
      },
      "execution_count": null,
      "outputs": []
    },
    {
      "cell_type": "code",
      "execution_count": null,
      "metadata": {
        "id": "Covf6OOgMOkT"
      },
      "outputs": [],
      "source": [
        "# Configure OAuth2 access token for authorization\n",
        "configuration = asana.Configuration()\n",
        "configuration.access_token = 'xxxxx' #troque pelo seu acesso\n",
        "api_client = asana.ApiClient(configuration)\n",
        "\n",
        "api_instance = asana.TasksApi(api_client)\n",
        "\n",
        "# ID do projeto (substitua pelo ID do projeto desejado)\n",
        "project_id = 'xxxxxx' #id projeto Piauí"
      ]
    },
    {
      "cell_type": "code",
      "execution_count": null,
      "metadata": {
        "id": "9-1JYy7CMIyG"
      },
      "outputs": [],
      "source": [
        "# Define os campos que deseja incluir na consulta\n",
        "opt_fields = [\n",
        "    \"gid\",\n",
        "    \"created_at\",\n",
        "    \"completed_at\",\n",
        "    \"modified_at\",\n",
        "    \"name\",\n",
        "    \"memberships.section.name\",\n",
        "    \"assignee.name\",\n",
        "    \"assignee.email\",\n",
        "    \"start_on\",\n",
        "    \"due_on\",\n",
        "    \"tags.name\",\n",
        "    \"notes\",\n",
        "    \"projects.name\",\n",
        "]\n",
        "\n",
        "def get_all_tasks_and_subtasks(task, parent_task_name=None):\n",
        "    task_data.append({\n",
        "        'section_name': task.memberships[0].section.name if task.memberships else None,\n",
        "        'task_name': parent_task_name if parent_task_name else task.name,\n",
        "        'subtask_name': task.name,\n",
        "        'assignee': task.assignee.name if task.assignee else None,\n",
        "        'subtask_notes': task.notes,\n",
        "        'due_on': task.due_on.strftime(\"%d/%m/%Y\") if task.due_on else None,\n",
        "        'tag_names': [tag.name for tag in task.tags] if task.tags else None\n",
        "    })\n",
        "\n",
        "    subtask_response = api_instance.get_subtasks_for_task(task.gid, opt_fields=opt_fields)\n",
        "    subtasks = subtask_response.data\n",
        "\n",
        "    for subtask in subtasks:\n",
        "        get_all_tasks_and_subtasks(subtask, parent_task_name=parent_task_name if parent_task_name else task.name)\n",
        "\n",
        "\n",
        "# Obtendo as tarefas do projeto\n",
        "try:\n",
        "    project_tasks_response = api_instance.get_tasks_for_project(project_id, opt_fields=opt_fields)\n",
        "    project_tasks = project_tasks_response.data\n",
        "except Exception as e:\n",
        "    print(\"Erro ao obter tarefas do projeto:\", str(e))\n",
        "    exit()\n",
        "\n",
        "# Lista para armazenar os dados de tarefas e subtarefas\n",
        "task_data = []\n",
        "\n",
        "# Lista para armazenar os dados de tarefas e subtarefas\n",
        "task_data = []\n",
        "\n",
        "# Iterar sobre as tarefas do projeto\n",
        "for task in project_tasks:\n",
        "    get_all_tasks_and_subtasks(task)\n",
        "\n",
        "# Crie um DataFrame a partir dos dados coletados\n",
        "df = pd.DataFrame(task_data)\n",
        "\n",
        "# Dicionário de mapeamento para tradução de nomes de colunas\n",
        "nome_coluna_map = {\n",
        "    'section_name' : 'Seção',\n",
        "    'task_name': 'Nome da Tarefa',\n",
        "    'subtask_name': 'Nome da Subtarefa',\n",
        "    'assignee': 'Responsável',\n",
        "    'subtask_notes': 'Notas',\n",
        "    'due_on': 'Concluída em',\n",
        "    'tag_names': 'Tags',\n",
        "}\n",
        "\n",
        "# Iterar sobre as chaves do dicionário de mapeamento\n",
        "for coluna_em_ingles, coluna_em_portugues in nome_coluna_map.items():\n",
        "    # Verifique se a coluna em inglês existe no DataFrame\n",
        "    if coluna_em_ingles in df.columns:\n",
        "        # Renomeie a coluna no DataFrame\n",
        "        df = df.rename(columns={coluna_em_ingles: coluna_em_portugues})\n"
      ]
    },
    {
      "cell_type": "markdown",
      "source": [
        "Dados apresentados no relátorio"
      ],
      "metadata": {
        "id": "eHwH8JU7H7q2"
      }
    },
    {
      "cell_type": "code",
      "source": [
        "# Filtrar as tarefas pela tag 'relatório executivo'\n",
        "filtro_tag_relatorio = df['Tags'].apply(lambda x: x is not None and 'relatório executivo' in x)\n",
        "\n",
        "# Filtrar as tarefas pelo mês e ano de conclusão\n",
        "filtro_mes = df['Concluída em'].str.contains(\"/09/2023\")\n",
        "\n",
        "# Combinar os dois filtros\n",
        "tarefas_relatorio = df[filtro_tag_relatorio & filtro_mes]\n",
        "\n",
        "tarefas_relatorio = tarefas_relatorio[[\"Seção\", \"Nome da Tarefa\",\t\"Nome da Subtarefa\",\t\"Responsável\",\t\"Notas\",\t\"Concluída em\",\t\"Tags\"]]\n",
        "\n",
        "# Salvar o DataFrame em um arquivo CSV\n",
        "nome_arquivo_csv = 'tarefaspiaui.csv'\n",
        "df.to_csv(nome_arquivo_csv, index=False)\n",
        "\n",
        "tarefas_relatorio\n"
      ],
      "metadata": {
        "id": "1rP-RTowN7Bz"
      },
      "execution_count": null,
      "outputs": []
    },
    {
      "cell_type": "code",
      "source": [
        "# Contar o número de tarefas em tarefas_relatorio\n",
        "numero_de_tarefas = tarefas_relatorio.shape[0]\n",
        "\n",
        "# Mostrar o resultado\n",
        "print(f\"Número de tarefas: {numero_de_tarefas}\")"
      ],
      "metadata": {
        "id": "yfEvhHqMCIZ7"
      },
      "execution_count": null,
      "outputs": []
    }
  ]
}